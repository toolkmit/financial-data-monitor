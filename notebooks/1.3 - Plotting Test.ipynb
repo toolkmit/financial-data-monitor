{
 "cells": [
  {
   "cell_type": "code",
   "execution_count": 1,
   "metadata": {},
   "outputs": [],
   "source": [
    "import os\n",
    "import pathlib\n",
    "from urllib.request import urlretrieve\n",
    "from time import sleep\n",
    "import math as math\n",
    "import quandl\n",
    "import pandas as pd\n",
    "import numpy as np\n",
    "import matplotlib.pyplot as plt\n",
    "from mpl_finance import candlestick_ohlc\n",
    "from matplotlib.backends.backend_pdf import PdfPages\n",
    "import matplotlib.ticker as ticker\n",
    "from datetime import date\n",
    "import boto3\n",
    "\n",
    "import sys\n",
    "sys.path.append('/code')\n",
    "from fdmonitor.cont_futures import create_continuous_future, get_cme_data\n",
    "from fdmonitor.plotter import draw_charts\n",
    "\n",
    "%matplotlib inline"
   ]
  },
  {
   "cell_type": "code",
   "execution_count": 2,
   "metadata": {},
   "outputs": [],
   "source": [
    "cme_metadata = pd.read_csv('/code/data/CME_metadata.csv')\n",
    "cme_futures = pd.read_csv('/code/data/CME_futures.csv')\n",
    "cme_futures.set_index('Futures Symbol', inplace=True)\n",
    "DATA_DIRNAME = pathlib.Path('/code').resolve() / 'data'"
   ]
  },
  {
   "cell_type": "code",
   "execution_count": 4,
   "metadata": {},
   "outputs": [],
   "source": [
    "futures_symbol = 'ES'\n",
    "futures_name, CME_months, CME_years = get_cme_data(futures_symbol, cme_futures, cme_metadata)"
   ]
  },
  {
   "cell_type": "code",
   "execution_count": 5,
   "metadata": {},
   "outputs": [],
   "source": [
    "data = create_continuous_future(futures_symbol, DATA_DIRNAME, CME_months, CME_years,\n",
    "                                        'open_interest', False)"
   ]
  },
  {
   "cell_type": "code",
   "execution_count": 5,
   "metadata": {},
   "outputs": [],
   "source": [
    "def create_pdf(futures_symbol, cme_futures, cme_metadata):\n",
    "    futures_name, CME_months, CME_years = get_cme_data(futures_symbol, \n",
    "                                                       cme_futures, cme_metadata)\n",
    "    roll_rules = ['expiration', 'open_interest', 'exp_month']\n",
    "    true_false = [False, True]\n",
    "\n",
    "    pdf_pages = PdfPages(pathlib.Path('/code/pdfs/tmp').resolve() / f'{futures_symbol}.pdf')\n",
    "\n",
    "    for roll_rule in roll_rules:\n",
    "        for tf in true_false:\n",
    "            data = create_continuous_future(futures_symbol, DATA_DIRNAME, CME_months, CME_years,\n",
    "                                        roll_rule, tf)\n",
    "            plot_title = f'{futures_name} ({futures_symbol}) \\n Roll: {roll_rule}'\n",
    "            if tf:\n",
    "                plot_title = plot_title + ', backadjusted'\n",
    "            draw_charts(data, plot_title, pdf_pages)\n",
    "    pdf_pages.close()"
   ]
  },
  {
   "cell_type": "code",
   "execution_count": 6,
   "metadata": {},
   "outputs": [],
   "source": [
    "create_pdf('NQ', cme_futures, cme_metadata)"
   ]
  },
  {
   "cell_type": "code",
   "execution_count": 7,
   "metadata": {},
   "outputs": [
    {
     "name": "stderr",
     "output_type": "stream",
     "text": [
      "/usr/local/lib/python3.6/site-packages/matplotlib/tight_layout.py:199: UserWarning: Tight layout not applied. tight_layout cannot make axes width small enough to accommodate all axes decorations\n",
      "  warnings.warn('Tight layout not applied. '\n"
     ]
    }
   ],
   "source": [
    "for futures_symbol in cme_futures.index.tolist():\n",
    "    create_pdf(futures_symbol, cme_futures, cme_metadata)"
   ]
  },
  {
   "cell_type": "code",
   "execution_count": 9,
   "metadata": {},
   "outputs": [
    {
     "data": {
      "text/plain": [
       "'11_29_18'"
      ]
     },
     "execution_count": 9,
     "metadata": {},
     "output_type": "execute_result"
    }
   ],
   "source": [
    "data.index[-1].strftime('%m_%d_%y')"
   ]
  },
  {
   "cell_type": "code",
   "execution_count": 4,
   "metadata": {},
   "outputs": [],
   "source": [
    "def create_combined_pdf(cme_futures, cme_metadata):\n",
    "    today = date.today().isoformat()\n",
    "    pdf_pages = PdfPages(f'/code/pdfs/{today}.pdf')\n",
    "    futures_symbols = cme_futures.index.tolist()\n",
    "    for futures_symbol in futures_symbols:\n",
    "        futures_name, CME_months, CME_years = get_cme_data(futures_symbol, \n",
    "                                                       cme_futures, cme_metadata)\n",
    "        data = create_continuous_future(futures_symbol, CME_months, CME_years,\n",
    "                                        'open_interest', is_backadjusted=False, \n",
    "                                        use_s3=True)\n",
    "        date_string = data.index[-1].strftime('%m/%-d/%y')\n",
    "        plot_title = f'{futures_name} ({futures_symbol})\\n{date_string}\\nRoll: open_interest'\n",
    "        draw_charts(data, plot_title, pdf_pages)\n",
    "    pdf_pages.close()\n",
    "    \n",
    "create_combined_pdf(cme_futures, cme_metadata)"
   ]
  },
  {
   "cell_type": "code",
   "execution_count": 18,
   "metadata": {},
   "outputs": [
    {
     "name": "stdout",
     "output_type": "stream",
     "text": [
      "2018-12-07\n"
     ]
    }
   ],
   "source": [
    "today = date.today().isoformat()\n",
    "print(today)"
   ]
  },
  {
   "cell_type": "code",
   "execution_count": 22,
   "metadata": {},
   "outputs": [
    {
     "data": {
      "text/html": [
       "<div>\n",
       "<style scoped>\n",
       "    .dataframe tbody tr th:only-of-type {\n",
       "        vertical-align: middle;\n",
       "    }\n",
       "\n",
       "    .dataframe tbody tr th {\n",
       "        vertical-align: top;\n",
       "    }\n",
       "\n",
       "    .dataframe thead th {\n",
       "        text-align: right;\n",
       "    }\n",
       "</style>\n",
       "<table border=\"1\" class=\"dataframe\">\n",
       "  <thead>\n",
       "    <tr style=\"text-align: right;\">\n",
       "      <th></th>\n",
       "      <th>Date</th>\n",
       "      <th>Open</th>\n",
       "      <th>High</th>\n",
       "      <th>Low</th>\n",
       "      <th>Last</th>\n",
       "      <th>Change</th>\n",
       "      <th>Settle</th>\n",
       "      <th>Volume</th>\n",
       "      <th>Previous Day Open Interest</th>\n",
       "    </tr>\n",
       "  </thead>\n",
       "  <tbody>\n",
       "    <tr>\n",
       "      <th>307</th>\n",
       "      <td>2018-11-30</td>\n",
       "      <td>2742.00</td>\n",
       "      <td>2764.75</td>\n",
       "      <td>2729.00</td>\n",
       "      <td>2764.00</td>\n",
       "      <td>14.00</td>\n",
       "      <td>2758.25</td>\n",
       "      <td>1418344.0</td>\n",
       "      <td>2749286.0</td>\n",
       "    </tr>\n",
       "    <tr>\n",
       "      <th>308</th>\n",
       "      <td>2018-12-03</td>\n",
       "      <td>2793.50</td>\n",
       "      <td>2814.00</td>\n",
       "      <td>2773.50</td>\n",
       "      <td>2789.75</td>\n",
       "      <td>32.50</td>\n",
       "      <td>2790.75</td>\n",
       "      <td>1842048.0</td>\n",
       "      <td>2737306.0</td>\n",
       "    </tr>\n",
       "    <tr>\n",
       "      <th>309</th>\n",
       "      <td>2018-12-04</td>\n",
       "      <td>2789.75</td>\n",
       "      <td>2790.50</td>\n",
       "      <td>2696.00</td>\n",
       "      <td>2701.75</td>\n",
       "      <td>89.00</td>\n",
       "      <td>2701.75</td>\n",
       "      <td>2617933.0</td>\n",
       "      <td>2740857.0</td>\n",
       "    </tr>\n",
       "    <tr>\n",
       "      <th>310</th>\n",
       "      <td>2018-12-05</td>\n",
       "      <td>2699.50</td>\n",
       "      <td>2720.75</td>\n",
       "      <td>2698.00</td>\n",
       "      <td>2718.00</td>\n",
       "      <td>NaN</td>\n",
       "      <td>2701.75</td>\n",
       "      <td>184485.0</td>\n",
       "      <td>2746850.0</td>\n",
       "    </tr>\n",
       "    <tr>\n",
       "      <th>311</th>\n",
       "      <td>2018-12-06</td>\n",
       "      <td>2713.25</td>\n",
       "      <td>2714.00</td>\n",
       "      <td>2621.25</td>\n",
       "      <td>2696.25</td>\n",
       "      <td>10.75</td>\n",
       "      <td>2691.00</td>\n",
       "      <td>3240785.0</td>\n",
       "      <td>2742552.0</td>\n",
       "    </tr>\n",
       "  </tbody>\n",
       "</table>\n",
       "</div>"
      ],
      "text/plain": [
       "           Date     Open     High      Low     Last  Change   Settle  \\\n",
       "307  2018-11-30  2742.00  2764.75  2729.00  2764.00   14.00  2758.25   \n",
       "308  2018-12-03  2793.50  2814.00  2773.50  2789.75   32.50  2790.75   \n",
       "309  2018-12-04  2789.75  2790.50  2696.00  2701.75   89.00  2701.75   \n",
       "310  2018-12-05  2699.50  2720.75  2698.00  2718.00     NaN  2701.75   \n",
       "311  2018-12-06  2713.25  2714.00  2621.25  2696.25   10.75  2691.00   \n",
       "\n",
       "        Volume  Previous Day Open Interest  \n",
       "307  1418344.0                   2749286.0  \n",
       "308  1842048.0                   2737306.0  \n",
       "309  2617933.0                   2740857.0  \n",
       "310   184485.0                   2746850.0  \n",
       "311  3240785.0                   2742552.0  "
      ]
     },
     "execution_count": 22,
     "metadata": {},
     "output_type": "execute_result"
    }
   ],
   "source": [
    "futures_code = 'ES'\n",
    "contract_code = 'ESZ2018'\n",
    "s3_filename = f'data/raw_csv/futures/{futures_code}/daily/{contract_code}.csv'\n",
    "s3 = boto3.client('s3')\n",
    "obj = s3.get_object(Bucket='financial-data-monitor', Key=s3_filename)\n",
    "current_df = pd.read_csv(obj['Body'])\n",
    "current_df.tail()"
   ]
  },
  {
   "cell_type": "code",
   "execution_count": null,
   "metadata": {},
   "outputs": [],
   "source": []
  }
 ],
 "metadata": {
  "kernelspec": {
   "display_name": "Python 3",
   "language": "python",
   "name": "python3"
  },
  "language_info": {
   "codemirror_mode": {
    "name": "ipython",
    "version": 3
   },
   "file_extension": ".py",
   "mimetype": "text/x-python",
   "name": "python",
   "nbconvert_exporter": "python",
   "pygments_lexer": "ipython3",
   "version": "3.6.7"
  }
 },
 "nbformat": 4,
 "nbformat_minor": 2
}
