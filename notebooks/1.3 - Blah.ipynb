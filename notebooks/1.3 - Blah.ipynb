{
 "cells": [
  {
   "cell_type": "code",
   "execution_count": 1,
   "metadata": {},
   "outputs": [],
   "source": [
    "import os\n",
    "import pathlib\n",
    "from urllib.request import urlretrieve\n",
    "from time import sleep\n",
    "import math as math\n",
    "import quandl\n",
    "import pandas as pd\n",
    "import numpy as np\n",
    "import matplotlib.pyplot as plt\n",
    "from mpl_finance import candlestick_ohlc\n",
    "from matplotlib.backends.backend_pdf import PdfPages\n",
    "import matplotlib.ticker as ticker\n",
    "\n",
    "import sys\n",
    "sys.path.append('/code')\n",
    "from fdmonitor.cont_futures import create_continuous_future, get_cme_data\n",
    "from fdmonitor.plotter import draw_charts\n",
    "\n",
    "%matplotlib inline"
   ]
  },
  {
   "cell_type": "code",
   "execution_count": 2,
   "metadata": {},
   "outputs": [],
   "source": [
    "cme_metadata = pd.read_csv('CME_metadata.csv')\n",
    "cme_futures = pd.read_csv('CME_futures.csv')\n",
    "cme_futures.set_index('Futures Symbol', inplace=True)\n",
    "DATA_DIRNAME = pathlib.Path('/code').resolve() / 'data'"
   ]
  },
  {
   "cell_type": "code",
   "execution_count": 3,
   "metadata": {},
   "outputs": [],
   "source": [
    "futures_symbol = 'ES'\n",
    "futures_name, CME_months, CME_years = get_cme_data(futures_symbol, cme_futures, cme_metadata)"
   ]
  },
  {
   "cell_type": "code",
   "execution_count": 4,
   "metadata": {},
   "outputs": [],
   "source": [
    "data = create_continuous_future(futures_symbol, DATA_DIRNAME, CME_months, CME_years,\n",
    "                                        'open_interest', False)"
   ]
  },
  {
   "cell_type": "code",
   "execution_count": 5,
   "metadata": {},
   "outputs": [],
   "source": [
    "def create_pdf(futures_symbol, cme_futures, cme_metadata):\n",
    "    futures_name, CME_months, CME_years = get_cme_data(futures_symbol, \n",
    "                                                       cme_futures, cme_metadata)\n",
    "    roll_rules = ['expiration', 'open_interest', 'exp_month']\n",
    "    true_false = [False, True]\n",
    "\n",
    "    pdf_pages = PdfPages(pathlib.Path('/code/pdfs/tmp').resolve() / f'{futures_symbol}.pdf')\n",
    "\n",
    "    for roll_rule in roll_rules:\n",
    "        for tf in true_false:\n",
    "            data = create_continuous_future(futures_symbol, DATA_DIRNAME, CME_months, CME_years,\n",
    "                                        roll_rule, tf)\n",
    "            plot_title = f'{futures_name} ({futures_symbol}) \\n Roll: {roll_rule}'\n",
    "            if tf:\n",
    "                plot_title = plot_title + ', backadjusted'\n",
    "            draw_charts(data, plot_title, pdf_pages)\n",
    "    pdf_pages.close()"
   ]
  },
  {
   "cell_type": "code",
   "execution_count": 6,
   "metadata": {},
   "outputs": [],
   "source": [
    "create_pdf('NQ', cme_futures, cme_metadata)"
   ]
  },
  {
   "cell_type": "code",
   "execution_count": 7,
   "metadata": {},
   "outputs": [
    {
     "name": "stderr",
     "output_type": "stream",
     "text": [
      "/usr/local/lib/python3.6/site-packages/matplotlib/tight_layout.py:199: UserWarning: Tight layout not applied. tight_layout cannot make axes width small enough to accommodate all axes decorations\n",
      "  warnings.warn('Tight layout not applied. '\n"
     ]
    }
   ],
   "source": [
    "for futures_symbol in cme_futures.index.tolist():\n",
    "    create_pdf(futures_symbol, cme_futures, cme_metadata)"
   ]
  },
  {
   "cell_type": "code",
   "execution_count": null,
   "metadata": {},
   "outputs": [],
   "source": []
  }
 ],
 "metadata": {
  "kernelspec": {
   "display_name": "Python 3",
   "language": "python",
   "name": "python3"
  },
  "language_info": {
   "codemirror_mode": {
    "name": "ipython",
    "version": 3
   },
   "file_extension": ".py",
   "mimetype": "text/x-python",
   "name": "python",
   "nbconvert_exporter": "python",
   "pygments_lexer": "ipython3",
   "version": "3.6.7"
  }
 },
 "nbformat": 4,
 "nbformat_minor": 2
}
